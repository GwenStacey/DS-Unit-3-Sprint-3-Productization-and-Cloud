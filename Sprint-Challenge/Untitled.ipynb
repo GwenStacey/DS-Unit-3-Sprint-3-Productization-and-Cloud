{
 "cells": [
  {
   "cell_type": "code",
   "execution_count": 1,
   "metadata": {},
   "outputs": [],
   "source": [
    "import openaq\n",
    "from flask import Flask\n",
    "from flask_sqlalchemy import SQLAlchemy"
   ]
  },
  {
   "cell_type": "code",
   "execution_count": 2,
   "metadata": {},
   "outputs": [],
   "source": [
    "APP = Flask(__name__)\n",
    "APP.config['SQLALCHEMY_DATABASE_URI'] = 'sqlite:///C:\\\\Users\\\\charl\\\\Documents\\\\MyGithub\\\\DS-Unit-3-Sprint-3-Productization-and-Cloud\\\\Sprint-Challenge\\\\db.sqlite3'\n",
    "API = openaq.OpenAQ()\n",
    "DB = SQLAlchemy()"
   ]
  },
  {
   "cell_type": "code",
   "execution_count": 3,
   "metadata": {},
   "outputs": [],
   "source": [
    "msrmnt = API.measurements(city='Los Angeles', parameter='pm25')"
   ]
  },
  {
   "cell_type": "code",
   "execution_count": 4,
   "metadata": {},
   "outputs": [],
   "source": [
    "body = msrmnt[1]\n",
    "results = body['results']"
   ]
  },
  {
   "cell_type": "code",
   "execution_count": 5,
   "metadata": {},
   "outputs": [],
   "source": [
    "#results"
   ]
  },
  {
   "cell_type": "code",
   "execution_count": 6,
   "metadata": {},
   "outputs": [],
   "source": [
    "#utc = body['results'][1]['date']['utc']"
   ]
  },
  {
   "cell_type": "code",
   "execution_count": 7,
   "metadata": {},
   "outputs": [],
   "source": [
    "#value = body['results'][1]['value']"
   ]
  },
  {
   "cell_type": "code",
   "execution_count": 8,
   "metadata": {},
   "outputs": [],
   "source": [
    "utc_val = []\n",
    "for i in results:\n",
    "    utc_val.append((i['date']['utc'],i['value']))"
   ]
  },
  {
   "cell_type": "code",
   "execution_count": 13,
   "metadata": {},
   "outputs": [
    {
     "name": "stdout",
     "output_type": "stream",
     "text": [
      "Time: 2019-10-13T01:00:00.000Z -- Value: 16\n"
     ]
    }
   ],
   "source": [
    "print(f'Time: {utc_val[0][0]} -- Value: {utc_val[0][1]}')"
   ]
  },
  {
   "cell_type": "code",
   "execution_count": 14,
   "metadata": {},
   "outputs": [
    {
     "name": "stdout",
     "output_type": "stream",
     "text": [
      "2019-10-13T01:00:00.000Z\n",
      "2019-10-13T00:00:00.000Z\n",
      "2019-10-13T00:00:00.000Z\n",
      "2019-10-12T23:00:00.000Z\n",
      "2019-10-12T23:00:00.000Z\n",
      "2019-10-12T22:00:00.000Z\n",
      "2019-10-12T22:00:00.000Z\n",
      "2019-10-12T21:00:00.000Z\n",
      "2019-10-12T21:00:00.000Z\n",
      "2019-10-12T20:00:00.000Z\n",
      "2019-10-12T20:00:00.000Z\n",
      "2019-10-12T19:00:00.000Z\n",
      "2019-10-12T19:00:00.000Z\n",
      "2019-10-12T18:00:00.000Z\n",
      "2019-10-12T18:00:00.000Z\n",
      "2019-10-12T17:00:00.000Z\n",
      "2019-10-12T17:00:00.000Z\n",
      "2019-10-12T16:00:00.000Z\n",
      "2019-10-12T16:00:00.000Z\n",
      "2019-10-12T15:00:00.000Z\n",
      "2019-10-12T15:00:00.000Z\n",
      "2019-10-12T14:00:00.000Z\n",
      "2019-10-12T14:00:00.000Z\n",
      "2019-10-12T13:00:00.000Z\n",
      "2019-10-12T13:00:00.000Z\n",
      "2019-10-12T12:00:00.000Z\n",
      "2019-10-12T12:00:00.000Z\n",
      "2019-10-12T11:00:00.000Z\n",
      "2019-10-12T11:00:00.000Z\n",
      "2019-10-12T10:00:00.000Z\n",
      "2019-10-12T10:00:00.000Z\n",
      "2019-10-12T09:00:00.000Z\n",
      "2019-10-12T09:00:00.000Z\n",
      "2019-10-12T08:00:00.000Z\n",
      "2019-10-12T08:00:00.000Z\n",
      "2019-10-12T07:00:00.000Z\n",
      "2019-10-12T07:00:00.000Z\n",
      "2019-10-12T06:00:00.000Z\n",
      "2019-10-12T06:00:00.000Z\n",
      "2019-10-12T05:00:00.000Z\n",
      "2019-10-12T05:00:00.000Z\n",
      "2019-10-12T04:00:00.000Z\n",
      "2019-10-12T04:00:00.000Z\n",
      "2019-10-12T03:00:00.000Z\n",
      "2019-10-12T03:00:00.000Z\n",
      "2019-10-12T02:00:00.000Z\n",
      "2019-10-12T02:00:00.000Z\n",
      "2019-10-12T01:00:00.000Z\n",
      "2019-10-12T01:00:00.000Z\n",
      "2019-10-12T00:00:00.000Z\n",
      "2019-10-12T00:00:00.000Z\n",
      "2019-10-11T23:00:00.000Z\n",
      "2019-10-11T23:00:00.000Z\n",
      "2019-10-11T22:00:00.000Z\n",
      "2019-10-11T22:00:00.000Z\n",
      "2019-10-11T21:00:00.000Z\n",
      "2019-10-11T21:00:00.000Z\n",
      "2019-10-11T20:00:00.000Z\n",
      "2019-10-11T20:00:00.000Z\n",
      "2019-10-11T19:00:00.000Z\n",
      "2019-10-11T19:00:00.000Z\n",
      "2019-10-11T18:00:00.000Z\n",
      "2019-10-11T18:00:00.000Z\n",
      "2019-10-11T17:00:00.000Z\n",
      "2019-10-11T17:00:00.000Z\n",
      "2019-10-11T16:00:00.000Z\n",
      "2019-10-11T16:00:00.000Z\n",
      "2019-10-11T15:00:00.000Z\n",
      "2019-10-11T15:00:00.000Z\n",
      "2019-10-11T14:00:00.000Z\n",
      "2019-10-11T14:00:00.000Z\n",
      "2019-10-11T13:00:00.000Z\n",
      "2019-10-11T13:00:00.000Z\n",
      "2019-10-11T12:00:00.000Z\n",
      "2019-10-11T12:00:00.000Z\n",
      "2019-10-11T11:00:00.000Z\n",
      "2019-10-11T11:00:00.000Z\n",
      "2019-10-11T10:00:00.000Z\n",
      "2019-10-11T10:00:00.000Z\n",
      "2019-10-11T09:00:00.000Z\n",
      "2019-10-11T09:00:00.000Z\n",
      "2019-10-11T08:00:00.000Z\n",
      "2019-10-11T08:00:00.000Z\n",
      "2019-10-11T07:00:00.000Z\n",
      "2019-10-11T07:00:00.000Z\n",
      "2019-10-11T06:00:00.000Z\n",
      "2019-10-11T06:00:00.000Z\n",
      "2019-10-11T05:00:00.000Z\n",
      "2019-10-11T05:00:00.000Z\n",
      "2019-10-11T04:00:00.000Z\n",
      "2019-10-11T04:00:00.000Z\n",
      "2019-10-11T03:00:00.000Z\n",
      "2019-10-11T03:00:00.000Z\n",
      "2019-10-11T02:00:00.000Z\n",
      "2019-10-11T02:00:00.000Z\n",
      "2019-10-11T01:00:00.000Z\n",
      "2019-10-11T01:00:00.000Z\n",
      "2019-10-11T00:00:00.000Z\n",
      "2019-10-11T00:00:00.000Z\n",
      "2019-10-10T23:00:00.000Z\n"
     ]
    }
   ],
   "source": [
    "for i in utc_val:\n",
    "    print(i[0])"
   ]
  },
  {
   "cell_type": "code",
   "execution_count": 10,
   "metadata": {},
   "outputs": [
    {
     "name": "stderr",
     "output_type": "stream",
     "text": [
      "C:\\Users\\charl\\Anaconda3\\lib\\site-packages\\flask_sqlalchemy\\__init__.py:835: FSADeprecationWarning: SQLALCHEMY_TRACK_MODIFICATIONS adds significant overhead and will be disabled by default in the future.  Set it to True or False to suppress this warning.\n",
      "  'SQLALCHEMY_TRACK_MODIFICATIONS adds significant overhead and '\n"
     ]
    }
   ],
   "source": [
    "from aq_dashboard import Record"
   ]
  },
  {
   "cell_type": "code",
   "execution_count": 11,
   "metadata": {},
   "outputs": [
    {
     "ename": "RuntimeError",
     "evalue": "No application found. Either work inside a view function or push an application context. See http://flask-sqlalchemy.pocoo.org/contexts/.",
     "output_type": "error",
     "traceback": [
      "\u001b[1;31m---------------------------------------------------------------------------\u001b[0m",
      "\u001b[1;31mKeyError\u001b[0m                                  Traceback (most recent call last)",
      "\u001b[1;32m~\\Anaconda3\\lib\\site-packages\\sqlalchemy\\util\\_collections.py\u001b[0m in \u001b[0;36m__call__\u001b[1;34m(self)\u001b[0m\n\u001b[0;32m   1009\u001b[0m         \u001b[1;32mtry\u001b[0m\u001b[1;33m:\u001b[0m\u001b[1;33m\u001b[0m\u001b[1;33m\u001b[0m\u001b[0m\n\u001b[1;32m-> 1010\u001b[1;33m             \u001b[1;32mreturn\u001b[0m \u001b[0mself\u001b[0m\u001b[1;33m.\u001b[0m\u001b[0mregistry\u001b[0m\u001b[1;33m[\u001b[0m\u001b[0mkey\u001b[0m\u001b[1;33m]\u001b[0m\u001b[1;33m\u001b[0m\u001b[1;33m\u001b[0m\u001b[0m\n\u001b[0m\u001b[0;32m   1011\u001b[0m         \u001b[1;32mexcept\u001b[0m \u001b[0mKeyError\u001b[0m\u001b[1;33m:\u001b[0m\u001b[1;33m\u001b[0m\u001b[1;33m\u001b[0m\u001b[0m\n",
      "\u001b[1;31mKeyError\u001b[0m: <greenlet.greenlet object at 0x000001C61C82EEB8>",
      "\nDuring handling of the above exception, another exception occurred:\n",
      "\u001b[1;31mRuntimeError\u001b[0m                              Traceback (most recent call last)",
      "\u001b[1;32m<ipython-input-11-bb4e56257d31>\u001b[0m in \u001b[0;36m<module>\u001b[1;34m\u001b[0m\n\u001b[1;32m----> 1\u001b[1;33m \u001b[0mRecord\u001b[0m\u001b[1;33m.\u001b[0m\u001b[0mquery\u001b[0m\u001b[1;33m.\u001b[0m\u001b[0mfilter\u001b[0m\u001b[1;33m(\u001b[0m\u001b[0mRecord\u001b[0m\u001b[1;33m.\u001b[0m\u001b[0mvalue\u001b[0m\u001b[1;33m>=\u001b[0m\u001b[1;36m10\u001b[0m\u001b[1;33m)\u001b[0m\u001b[1;33m.\u001b[0m\u001b[0mall\u001b[0m\u001b[1;33m(\u001b[0m\u001b[1;33m)\u001b[0m\u001b[1;33m\u001b[0m\u001b[1;33m\u001b[0m\u001b[0m\n\u001b[0m",
      "\u001b[1;32m~\\Anaconda3\\lib\\site-packages\\flask_sqlalchemy\\__init__.py\u001b[0m in \u001b[0;36m__get__\u001b[1;34m(self, obj, type)\u001b[0m\n\u001b[0;32m    517\u001b[0m             \u001b[0mmapper\u001b[0m \u001b[1;33m=\u001b[0m \u001b[0morm\u001b[0m\u001b[1;33m.\u001b[0m\u001b[0mclass_mapper\u001b[0m\u001b[1;33m(\u001b[0m\u001b[0mtype\u001b[0m\u001b[1;33m)\u001b[0m\u001b[1;33m\u001b[0m\u001b[1;33m\u001b[0m\u001b[0m\n\u001b[0;32m    518\u001b[0m             \u001b[1;32mif\u001b[0m \u001b[0mmapper\u001b[0m\u001b[1;33m:\u001b[0m\u001b[1;33m\u001b[0m\u001b[1;33m\u001b[0m\u001b[0m\n\u001b[1;32m--> 519\u001b[1;33m                 \u001b[1;32mreturn\u001b[0m \u001b[0mtype\u001b[0m\u001b[1;33m.\u001b[0m\u001b[0mquery_class\u001b[0m\u001b[1;33m(\u001b[0m\u001b[0mmapper\u001b[0m\u001b[1;33m,\u001b[0m \u001b[0msession\u001b[0m\u001b[1;33m=\u001b[0m\u001b[0mself\u001b[0m\u001b[1;33m.\u001b[0m\u001b[0msa\u001b[0m\u001b[1;33m.\u001b[0m\u001b[0msession\u001b[0m\u001b[1;33m(\u001b[0m\u001b[1;33m)\u001b[0m\u001b[1;33m)\u001b[0m\u001b[1;33m\u001b[0m\u001b[1;33m\u001b[0m\u001b[0m\n\u001b[0m\u001b[0;32m    520\u001b[0m         \u001b[1;32mexcept\u001b[0m \u001b[0mUnmappedClassError\u001b[0m\u001b[1;33m:\u001b[0m\u001b[1;33m\u001b[0m\u001b[1;33m\u001b[0m\u001b[0m\n\u001b[0;32m    521\u001b[0m             \u001b[1;32mreturn\u001b[0m \u001b[1;32mNone\u001b[0m\u001b[1;33m\u001b[0m\u001b[1;33m\u001b[0m\u001b[0m\n",
      "\u001b[1;32m~\\Anaconda3\\lib\\site-packages\\sqlalchemy\\orm\\scoping.py\u001b[0m in \u001b[0;36m__call__\u001b[1;34m(self, **kw)\u001b[0m\n\u001b[0;32m     76\u001b[0m                 \u001b[1;32mreturn\u001b[0m \u001b[0msess\u001b[0m\u001b[1;33m\u001b[0m\u001b[1;33m\u001b[0m\u001b[0m\n\u001b[0;32m     77\u001b[0m         \u001b[1;32melse\u001b[0m\u001b[1;33m:\u001b[0m\u001b[1;33m\u001b[0m\u001b[1;33m\u001b[0m\u001b[0m\n\u001b[1;32m---> 78\u001b[1;33m             \u001b[1;32mreturn\u001b[0m \u001b[0mself\u001b[0m\u001b[1;33m.\u001b[0m\u001b[0mregistry\u001b[0m\u001b[1;33m(\u001b[0m\u001b[1;33m)\u001b[0m\u001b[1;33m\u001b[0m\u001b[1;33m\u001b[0m\u001b[0m\n\u001b[0m\u001b[0;32m     79\u001b[0m \u001b[1;33m\u001b[0m\u001b[0m\n\u001b[0;32m     80\u001b[0m     \u001b[1;32mdef\u001b[0m \u001b[0mremove\u001b[0m\u001b[1;33m(\u001b[0m\u001b[0mself\u001b[0m\u001b[1;33m)\u001b[0m\u001b[1;33m:\u001b[0m\u001b[1;33m\u001b[0m\u001b[1;33m\u001b[0m\u001b[0m\n",
      "\u001b[1;32m~\\Anaconda3\\lib\\site-packages\\sqlalchemy\\util\\_collections.py\u001b[0m in \u001b[0;36m__call__\u001b[1;34m(self)\u001b[0m\n\u001b[0;32m   1010\u001b[0m             \u001b[1;32mreturn\u001b[0m \u001b[0mself\u001b[0m\u001b[1;33m.\u001b[0m\u001b[0mregistry\u001b[0m\u001b[1;33m[\u001b[0m\u001b[0mkey\u001b[0m\u001b[1;33m]\u001b[0m\u001b[1;33m\u001b[0m\u001b[1;33m\u001b[0m\u001b[0m\n\u001b[0;32m   1011\u001b[0m         \u001b[1;32mexcept\u001b[0m \u001b[0mKeyError\u001b[0m\u001b[1;33m:\u001b[0m\u001b[1;33m\u001b[0m\u001b[1;33m\u001b[0m\u001b[0m\n\u001b[1;32m-> 1012\u001b[1;33m             \u001b[1;32mreturn\u001b[0m \u001b[0mself\u001b[0m\u001b[1;33m.\u001b[0m\u001b[0mregistry\u001b[0m\u001b[1;33m.\u001b[0m\u001b[0msetdefault\u001b[0m\u001b[1;33m(\u001b[0m\u001b[0mkey\u001b[0m\u001b[1;33m,\u001b[0m \u001b[0mself\u001b[0m\u001b[1;33m.\u001b[0m\u001b[0mcreatefunc\u001b[0m\u001b[1;33m(\u001b[0m\u001b[1;33m)\u001b[0m\u001b[1;33m)\u001b[0m\u001b[1;33m\u001b[0m\u001b[1;33m\u001b[0m\u001b[0m\n\u001b[0m\u001b[0;32m   1013\u001b[0m \u001b[1;33m\u001b[0m\u001b[0m\n\u001b[0;32m   1014\u001b[0m     \u001b[1;32mdef\u001b[0m \u001b[0mhas\u001b[0m\u001b[1;33m(\u001b[0m\u001b[0mself\u001b[0m\u001b[1;33m)\u001b[0m\u001b[1;33m:\u001b[0m\u001b[1;33m\u001b[0m\u001b[1;33m\u001b[0m\u001b[0m\n",
      "\u001b[1;32m~\\Anaconda3\\lib\\site-packages\\sqlalchemy\\orm\\session.py\u001b[0m in \u001b[0;36m__call__\u001b[1;34m(self, **local_kw)\u001b[0m\n\u001b[0;32m   3212\u001b[0m             \u001b[1;32melse\u001b[0m\u001b[1;33m:\u001b[0m\u001b[1;33m\u001b[0m\u001b[1;33m\u001b[0m\u001b[0m\n\u001b[0;32m   3213\u001b[0m                 \u001b[0mlocal_kw\u001b[0m\u001b[1;33m.\u001b[0m\u001b[0msetdefault\u001b[0m\u001b[1;33m(\u001b[0m\u001b[0mk\u001b[0m\u001b[1;33m,\u001b[0m \u001b[0mv\u001b[0m\u001b[1;33m)\u001b[0m\u001b[1;33m\u001b[0m\u001b[1;33m\u001b[0m\u001b[0m\n\u001b[1;32m-> 3214\u001b[1;33m         \u001b[1;32mreturn\u001b[0m \u001b[0mself\u001b[0m\u001b[1;33m.\u001b[0m\u001b[0mclass_\u001b[0m\u001b[1;33m(\u001b[0m\u001b[1;33m**\u001b[0m\u001b[0mlocal_kw\u001b[0m\u001b[1;33m)\u001b[0m\u001b[1;33m\u001b[0m\u001b[1;33m\u001b[0m\u001b[0m\n\u001b[0m\u001b[0;32m   3215\u001b[0m \u001b[1;33m\u001b[0m\u001b[0m\n\u001b[0;32m   3216\u001b[0m     \u001b[1;32mdef\u001b[0m \u001b[0mconfigure\u001b[0m\u001b[1;33m(\u001b[0m\u001b[0mself\u001b[0m\u001b[1;33m,\u001b[0m \u001b[1;33m**\u001b[0m\u001b[0mnew_kw\u001b[0m\u001b[1;33m)\u001b[0m\u001b[1;33m:\u001b[0m\u001b[1;33m\u001b[0m\u001b[1;33m\u001b[0m\u001b[0m\n",
      "\u001b[1;32m~\\Anaconda3\\lib\\site-packages\\flask_sqlalchemy\\__init__.py\u001b[0m in \u001b[0;36m__init__\u001b[1;34m(self, db, autocommit, autoflush, **options)\u001b[0m\n\u001b[0;32m    134\u001b[0m     \u001b[1;32mdef\u001b[0m \u001b[0m__init__\u001b[0m\u001b[1;33m(\u001b[0m\u001b[0mself\u001b[0m\u001b[1;33m,\u001b[0m \u001b[0mdb\u001b[0m\u001b[1;33m,\u001b[0m \u001b[0mautocommit\u001b[0m\u001b[1;33m=\u001b[0m\u001b[1;32mFalse\u001b[0m\u001b[1;33m,\u001b[0m \u001b[0mautoflush\u001b[0m\u001b[1;33m=\u001b[0m\u001b[1;32mTrue\u001b[0m\u001b[1;33m,\u001b[0m \u001b[1;33m**\u001b[0m\u001b[0moptions\u001b[0m\u001b[1;33m)\u001b[0m\u001b[1;33m:\u001b[0m\u001b[1;33m\u001b[0m\u001b[1;33m\u001b[0m\u001b[0m\n\u001b[0;32m    135\u001b[0m         \u001b[1;31m#: The application that this session belongs to.\u001b[0m\u001b[1;33m\u001b[0m\u001b[1;33m\u001b[0m\u001b[1;33m\u001b[0m\u001b[0m\n\u001b[1;32m--> 136\u001b[1;33m         \u001b[0mself\u001b[0m\u001b[1;33m.\u001b[0m\u001b[0mapp\u001b[0m \u001b[1;33m=\u001b[0m \u001b[0mapp\u001b[0m \u001b[1;33m=\u001b[0m \u001b[0mdb\u001b[0m\u001b[1;33m.\u001b[0m\u001b[0mget_app\u001b[0m\u001b[1;33m(\u001b[0m\u001b[1;33m)\u001b[0m\u001b[1;33m\u001b[0m\u001b[1;33m\u001b[0m\u001b[0m\n\u001b[0m\u001b[0;32m    137\u001b[0m         \u001b[0mtrack_modifications\u001b[0m \u001b[1;33m=\u001b[0m \u001b[0mapp\u001b[0m\u001b[1;33m.\u001b[0m\u001b[0mconfig\u001b[0m\u001b[1;33m[\u001b[0m\u001b[1;34m'SQLALCHEMY_TRACK_MODIFICATIONS'\u001b[0m\u001b[1;33m]\u001b[0m\u001b[1;33m\u001b[0m\u001b[1;33m\u001b[0m\u001b[0m\n\u001b[0;32m    138\u001b[0m         \u001b[0mbind\u001b[0m \u001b[1;33m=\u001b[0m \u001b[0moptions\u001b[0m\u001b[1;33m.\u001b[0m\u001b[0mpop\u001b[0m\u001b[1;33m(\u001b[0m\u001b[1;34m'bind'\u001b[0m\u001b[1;33m,\u001b[0m \u001b[1;32mNone\u001b[0m\u001b[1;33m)\u001b[0m \u001b[1;32mor\u001b[0m \u001b[0mdb\u001b[0m\u001b[1;33m.\u001b[0m\u001b[0mengine\u001b[0m\u001b[1;33m\u001b[0m\u001b[1;33m\u001b[0m\u001b[0m\n",
      "\u001b[1;32m~\\Anaconda3\\lib\\site-packages\\flask_sqlalchemy\\__init__.py\u001b[0m in \u001b[0;36mget_app\u001b[1;34m(self, reference_app)\u001b[0m\n\u001b[0;32m    980\u001b[0m \u001b[1;33m\u001b[0m\u001b[0m\n\u001b[0;32m    981\u001b[0m         raise RuntimeError(\n\u001b[1;32m--> 982\u001b[1;33m             \u001b[1;34m'No application found. Either work inside a view function or push'\u001b[0m\u001b[1;33m\u001b[0m\u001b[1;33m\u001b[0m\u001b[0m\n\u001b[0m\u001b[0;32m    983\u001b[0m             \u001b[1;34m' an application context. See'\u001b[0m\u001b[1;33m\u001b[0m\u001b[1;33m\u001b[0m\u001b[0m\n\u001b[0;32m    984\u001b[0m             \u001b[1;34m' http://flask-sqlalchemy.pocoo.org/contexts/.'\u001b[0m\u001b[1;33m\u001b[0m\u001b[1;33m\u001b[0m\u001b[0m\n",
      "\u001b[1;31mRuntimeError\u001b[0m: No application found. Either work inside a view function or push an application context. See http://flask-sqlalchemy.pocoo.org/contexts/."
     ]
    }
   ],
   "source": [
    "Record.query.filter(Record.value>=10).all()"
   ]
  },
  {
   "cell_type": "code",
   "execution_count": null,
   "metadata": {},
   "outputs": [],
   "source": []
  }
 ],
 "metadata": {
  "kernelspec": {
   "display_name": "Python 3",
   "language": "python",
   "name": "python3"
  },
  "language_info": {
   "codemirror_mode": {
    "name": "ipython",
    "version": 3
   },
   "file_extension": ".py",
   "mimetype": "text/x-python",
   "name": "python",
   "nbconvert_exporter": "python",
   "pygments_lexer": "ipython3",
   "version": "3.7.3"
  }
 },
 "nbformat": 4,
 "nbformat_minor": 2
}
